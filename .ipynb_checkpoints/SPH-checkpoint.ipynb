{
 "cells": [
  {
   "cell_type": "code",
   "execution_count": 3,
   "metadata": {},
   "outputs": [],
   "source": [
    "import torch\n",
    "import torch.nn as nn\n",
    "import torch.nn.functional as F"
   ]
  },
  {
   "cell_type": "code",
   "execution_count": 4,
   "metadata": {},
   "outputs": [
    {
     "data": {
      "text/plain": [
       "device(type='cuda')"
      ]
     },
     "execution_count": 4,
     "metadata": {},
     "output_type": "execute_result"
    }
   ],
   "source": [
    "device = torch.device('cpu')\n",
    "if torch.cuda.is_available():\n",
    "    device = torch.device('cuda')\n",
    "device"
   ]
  },
  {
   "cell_type": "code",
   "execution_count": 5,
   "metadata": {},
   "outputs": [],
   "source": [
    "class SPH(nn.Module):\n",
    "    def __init__(self, particle_num):\n",
    "        super(Model, self).__init__()\n",
    "        self.particle_num = particle_num\n",
    "\n",
    "    def forward(self, pos, vel, mass, kernel):\n",
    "        density = torch.zeros([self.particle_num, 1], dtype=torch.float64, device = device)\n",
    "        for i in range(self.particle_num):\n",
    "            for j in range(i, self.particle_num):\n",
    "                d = kernel(torch.norm(pos[i,:] - pos[j,:]))\n",
    "                density[i, 0] += mass[j, 0] * d\n",
    "                density[j, 0] += mass[i, 0] * d\n",
    "        return pos, vel"
   ]
  },
  {
   "cell_type": "code",
   "execution_count": 9,
   "metadata": {},
   "outputs": [],
   "source": [
    "particle_num = 500\n",
    "particle_mass = torch.ones((particle_num ,1), dtype=torch.float64, device=device)\n",
    "particle_pos = torch.randn((particle_num, 2), dtype=torch.float64, device=device)\n",
    "particle_vel = torch.randn((particle_num, 2), dtype=torch.float64, device=device)"
   ]
  },
  {
   "cell_type": "code",
   "execution_count": 13,
   "metadata": {},
   "outputs": [],
   "source": [
    "def kernel1(r, h = 0.025):\n",
    "    q = r / h\n",
    "    if 0 <= q <= 0.5:\n",
    "        return 6 * (q**3 - q**2) + 1\n",
    "    elif 0.5 < q <= 1:\n",
    "        return 2 * (1 - q**3)\n",
    "    else:\n",
    "        return 0"
   ]
  },
  {
   "cell_type": "code",
   "execution_count": 20,
   "metadata": {},
   "outputs": [],
   "source": [
    "kernel = kernel1"
   ]
  },
  {
   "cell_type": "code",
   "execution_count": 22,
   "metadata": {},
   "outputs": [
    {
     "data": {
      "text/plain": [
       "0.42400000000000004"
      ]
     },
     "execution_count": 22,
     "metadata": {},
     "output_type": "execute_result"
    }
   ],
   "source": [
    "kernel(0.01)"
   ]
  },
  {
   "cell_type": "code",
   "execution_count": null,
   "metadata": {},
   "outputs": [],
   "source": []
  }
 ],
 "metadata": {
  "kernelspec": {
   "display_name": "Python 3",
   "language": "python",
   "name": "python3"
  },
  "language_info": {
   "codemirror_mode": {
    "name": "ipython",
    "version": 3
   },
   "file_extension": ".py",
   "mimetype": "text/x-python",
   "name": "python",
   "nbconvert_exporter": "python",
   "pygments_lexer": "ipython3",
   "version": "3.9.1"
  }
 },
 "nbformat": 4,
 "nbformat_minor": 4
}
