{
 "cells": [
  {
   "cell_type": "code",
   "execution_count": 1,
   "metadata": {},
   "outputs": [],
   "source": [
    "%config IPCompleter.greedy=True\n",
    "%matplotlib inline"
   ]
  },
  {
   "cell_type": "code",
   "execution_count": 2,
   "metadata": {},
   "outputs": [],
   "source": [
    "import torch\n",
    "import torch.nn as nn\n",
    "import torch.nn.functional as F\n",
    "import math\n",
    "import numpy as np\n",
    "from IPython.display import HTML\n",
    "from IPython.display import display, clear_output"
   ]
  },
  {
   "cell_type": "code",
   "execution_count": 3,
   "metadata": {},
   "outputs": [],
   "source": [
    "import matplotlib.pyplot as plt\n",
    "from matplotlib.animation import FuncAnimation"
   ]
  },
  {
   "cell_type": "code",
   "execution_count": 4,
   "metadata": {},
   "outputs": [
    {
     "data": {
      "text/plain": [
       "device(type='cuda')"
      ]
     },
     "execution_count": 4,
     "metadata": {},
     "output_type": "execute_result"
    }
   ],
   "source": [
    "device = torch.device('cpu')\n",
    "if torch.cuda.is_available():\n",
    "    device = torch.device('cuda')\n",
    "device"
   ]
  },
  {
   "cell_type": "code",
   "execution_count": 5,
   "metadata": {},
   "outputs": [],
   "source": [
    "class SPH(nn.Module):\n",
    "    def __init__(self, particle_num, particle_size, viscosity, kernel, kernel_grad, v_kernel_grad, boundary_num, boundary_pos, mass, step_time):\n",
    "        super(SPH, self).__init__()\n",
    "        self.particle_num = particle_num\n",
    "        self.particle_size = particle_size\n",
    "        self.viscosity = viscosity\n",
    "        self.kernel = kernel\n",
    "        self.kernel_grad = kernel_grad\n",
    "        self.v_kernel_grad = v_kernel_grad\n",
    "        self.boundary_num = boundary_num\n",
    "        self.boundary_pos = boundary_pos\n",
    "        self.mass = mass\n",
    "        self.step_time = step_time\n",
    "        self.total_num = self.particle_num + self.boundary_num\n",
    "\n",
    "    def forward(self, pos, vel, f_ext):\n",
    "        cat_pos = torch.cat((pos, self.boundary_pos),0)\n",
    "        cat_vel = torch.cat((vel, torch.zeros((self.boundary_num, 2), device = device)),0)\n",
    "        rest_density = self.mass[0] * self.kernel(torch.tensor([0.], device = device))\n",
    "\n",
    "        diff = cat_pos.view(self.total_num, 1, 2) - cat_pos.view(1, self.total_num, 2)\n",
    "        r = torch.norm(diff, dim=2)\n",
    "        w = self.kernel(r)\n",
    "        density = torch.sum(self.mass.view(1, self.total_num) * w, 1)\n",
    "        \n",
    "        vel_diff = cat_vel.view(self.total_num, 1, 2) - cat_vel.view(1, self.total_num , 2)\n",
    "        grad_w = diff / r.view(self.total_num, self.total_num, 1) * self.kernel_grad(r).view(self.total_num, self.total_num, 1)\n",
    "        grad_w[torch.isnan(grad_w)] = 0\n",
    "        \n",
    "        grad_vw = diff / r.view(self.total_num, self.total_num, 1) * self.v_kernel_grad(r).view(self.total_num, self.total_num, 1)\n",
    "        grad_vw[torch.isnan(grad_vw)] = 0\n",
    "        \n",
    "        grad2_vel_1p = -vel_diff * self.mass.view(1, self.total_num, 1) / density.view(1, self.total_num, 1)\n",
    "        grad2_vel_2p = 2 * grad_vw / r.view(self.total_num, self.total_num, 1)\n",
    "        grad2_vel_2p[torch.isnan(grad2_vel_2p)] = 0\n",
    "        grad2_vel = torch.sum(grad2_vel_1p * grad2_vel_2p, 1)\n",
    "        \n",
    "\n",
    "        f_viscosity = self.mass[:self.particle_num] * self.viscosity * grad2_vel[:self.particle_num]\n",
    "        mid_vel = vel + self.step_time / self.mass[:self.particle_num] * (0 * f_viscosity + f_ext)\n",
    "         \n",
    "        pressure = 10 * ((density / rest_density) ** 7 - 1)\n",
    "        f_pressure_1p = pressure / (density ** 2)\n",
    "        f_pressure_2p = f_pressure_1p.view(self.total_num, 1, 1) + f_pressure_1p.view(1, self.total_num, 1)\n",
    "        f_pressure_3p = f_pressure_2p * self.mass.view(1, self.total_num, 1) * grad_w\n",
    "        \n",
    "        f_pressure = density.view(self.total_num, 1) * torch.sum(f_pressure_3p, 1)\n",
    "        \n",
    "        new_vel = mid_vel + self.step_time / self.mass[:self.particle_num] * (f_pressure[:self.particle_num])\n",
    "        new_pos = pos + self.step_time * new_vel\n",
    "        \n",
    "        return new_pos, new_vel"
   ]
  },
  {
   "cell_type": "code",
   "execution_count": 6,
   "metadata": {},
   "outputs": [],
   "source": [
    "def kernel1(r, h = 0.025):\n",
    "    q = r / h\n",
    "    l1 = q <= 0.5\n",
    "    l2 = q <= 1\n",
    "    \n",
    "    return 40 / 7 / math.pi / (h ** 2) * (l1 * (6 * (q**3 - q**2) + 1) + ~l1 * l2 * (2 * ((1 - q) ** 3)))"
   ]
  },
  {
   "cell_type": "code",
   "execution_count": 7,
   "metadata": {},
   "outputs": [],
   "source": [
    "def kernel1_grad(r, h = 0.025):\n",
    "    q = r / h\n",
    "    l1 = torch.logical_and(0 <= q, q <= 0.5)\n",
    "    l2 = torch.logical_and(0.5 < q, q <= 1)\n",
    "    \n",
    "    return 40 / 7 / math.pi / (h ** 2) * (l1 * (6 * (3 * q**2 - 2 *q)) + torch.logical_not(l1) * l2 * (-6 * ((1 - q)**2)))/ h"
   ]
  },
  {
   "cell_type": "code",
   "execution_count": 8,
   "metadata": {},
   "outputs": [],
   "source": [
    "def kernel2_grad(r, h = 0.025):\n",
    "    q = r / h\n",
    "    l1 = q <= 1\n",
    "    \n",
    "    return 10 / 3 / math.pi / (h ** 4) * (l1 * (-3./2.*q + 2 - 1. / 2. / (q**3)) * r)"
   ]
  },
  {
   "cell_type": "code",
   "execution_count": 9,
   "metadata": {},
   "outputs": [],
   "source": [
    "def visualize(pos):\n",
    "    plt.figure(figsize=(5, 5))\n",
    "    plt.scatter(pos[:, 0].tolist(), pos[:, 1].tolist())\n",
    "    plt.xlim([0, 1])\n",
    "    plt.ylim([0, 1])\n",
    "    plt.show()"
   ]
  },
  {
   "cell_type": "code",
   "execution_count": 10,
   "metadata": {},
   "outputs": [
    {
     "data": {
      "image/png": "[encoded data removed]",
      "text/plain": [
       "<Figure size 360x360 with 1 Axes>"
      ]
     },
     "metadata": {},
     "output_type": "display_data"
    },
    {
     "name": "stdout",
     "output_type": "stream",
     "text": [
      "[[ 2.42566885e+02 -2.65560814e+02]\n",
      " [-1.53269625e+02  1.99472355e+02]\n",
      " [-2.68580258e+02  5.17195460e+01]\n",
      " [-2.68580258e+02 -3.74129910e+01]\n",
      " [-2.59265476e+02  2.39594239e+01]\n",
      " [-2.73783087e+02  7.05960000e-01]\n",
      " [-2.59265476e+02 -2.25475039e+01]\n",
      " [-2.68580258e+02  3.83735778e+01]\n",
      " [-2.68580258e+02 -3.59977419e+01]\n",
      " [-2.49565611e+02  1.42101421e+02]\n",
      " [ 4.76890266e+01 -1.47591436e+02]\n",
      " [-3.09561980e+01  2.16324733e+02]\n",
      " [-1.72646657e+01  2.24760717e+00]\n",
      " [-1.80631330e+01 -2.46916759e+00]\n",
      " [-1.56900668e+01  3.82131709e+00]\n",
      " [-1.76330285e+01  7.05960000e-01]\n",
      " [-1.43775018e+01  4.53850515e+00]\n",
      " [-2.03690956e+01 -4.10360610e+00]\n",
      " [-1.66529679e+01  1.50109576e+00]\n",
      " [-1.50426856e+01  1.25937083e+00]\n",
      " [-7.82309033e+01 -1.54945270e+02]\n",
      " [-1.26459101e+01  2.19283899e+02]\n",
      " [ 8.89470655e+00  2.83419128e+01]\n",
      " [ 2.32544290e+01 -7.63587512e+01]\n",
      " [-8.63620303e+00 -5.00352836e+00]\n",
      " [ 4.38491581e+01 -1.11259523e+02]\n",
      " [-1.88783751e+01  3.27515293e+01]\n",
      " [ 7.31666533e+01 -5.35075716e+01]\n",
      " [ 4.69472911e+01 -5.46366383e+01]\n",
      " [ 4.24293458e+01  4.19561968e+01]\n",
      " [ 7.95561030e+01 -1.54945270e+02]\n",
      " [ 1.30761691e+01  2.19283899e+02]\n",
      " [ 1.72611938e+01 -1.82880535e+01]\n",
      " [ 1.11319348e+02 -9.03764362e+00]\n",
      " [-1.92598075e+02 -4.85126929e+01]\n",
      " [-2.80116737e+01  2.51040251e+01]\n",
      " [-5.87488446e+01  2.84640902e+00]\n",
      " [-1.63245048e+02 -4.13045110e+00]\n",
      " [-3.76802790e+01  4.75595458e+01]\n",
      " [-3.56392833e+01 -3.52110330e+01]\n",
      " [-4.94027186e+01 -1.41722887e+02]\n",
      " [-7.37485092e+00  2.11191978e+02]\n",
      " [-9.43844145e+00  9.45864604e+00]\n",
      " [-3.43279370e+00  1.78577921e+01]\n",
      " [-4.56358049e-01 -1.79046360e+01]\n",
      " [-8.82288806e+00 -7.12714124e+00]\n",
      " [ 2.06700771e+01 -1.89526128e+02]\n",
      " [-6.83085317e+01 -5.73614136e+00]\n",
      " [ 4.84281056e+00  2.24538514e+01]\n",
      " [-9.68153635e+00  1.17160647e+02]\n",
      " [ 1.00000000e-01 -1.62975957e+02]\n",
      " [ 1.00000000e-01  2.24625867e+02]\n",
      " [-4.40498407e+00  9.73252167e+00]\n",
      " [ 6.21438653e+00  3.17772619e+01]\n",
      " [ 1.04222363e+01 -2.28685872e+01]\n",
      " [ 1.61881057e+02 -6.90223295e+00]\n",
      " [ 4.45723946e+01 -4.36412433e+01]\n",
      " [ 2.33426307e+02  1.71087965e+01]\n",
      " [ 3.84819538e+00  2.22486544e+01]\n",
      " [ 3.16270671e+00 -2.07214971e+01]\n",
      " [ 4.96027186e+01 -1.41722887e+02]\n",
      " [ 7.57485092e+00  2.11191978e+02]\n",
      " [ 4.42636266e+00  1.28367458e+01]\n",
      " [-1.53077950e+01  1.22239333e+01]\n",
      " [-1.93310828e+02  4.29268558e+00]\n",
      " [ 1.73249025e+01 -2.03821275e+02]\n",
      " [-1.05377656e+01 -5.50203028e+00]\n",
      " [ 1.89218711e+02 -1.05355061e+01]\n",
      " [ 8.25793557e+00  1.96227837e+01]\n",
      " [ 6.01904119e+00 -2.08474335e+01]\n",
      " [-7.81309033e+01 -1.54945270e+02]\n",
      " [-1.24804580e+01  2.19283899e+02]\n",
      " [-4.15857476e+00  7.00919570e+00]\n",
      " [-4.36082731e+01 -2.00450107e+01]\n",
      " [ 3.81258432e+01 -2.18513917e+02]\n",
      " [ 1.95898705e+02  8.65906287e+00]\n",
      " [-7.38374397e-01  3.41766898e+01]\n",
      " [ 1.02818050e+02  2.95090717e+01]\n",
      " [-1.47128093e+02  1.56464913e+02]\n",
      " [-6.61142795e+01 -3.70965781e+02]\n",
      " [ 7.61245553e+01 -1.54945270e+02]\n",
      " [ 1.22902373e+01  2.19283899e+02]\n",
      " [ 1.30233889e-01  1.00002622e+01]\n",
      " [ 1.39486519e+02 -8.83549158e+01]\n",
      " [-1.07835189e+02  1.01093804e+02]\n",
      " [-1.94723713e+01 -3.32939740e+00]\n",
      " [ 1.59102840e+02 -3.58787878e+01]\n",
      " [-1.55339321e+02  1.48938143e+02]\n",
      " [ 2.76286031e+00 -4.38256587e+00]\n",
      " [-2.39740919e+02 -1.67563332e+02]\n",
      " [-2.83342699e+02 -1.24431463e+02]\n",
      " [-3.30358316e+01  1.87120716e+02]\n",
      " [-6.06755890e-02  8.02075697e+00]\n",
      " [-8.54818455e+01 -1.35002802e+02]\n",
      " [ 6.60704523e+01  8.18459584e+01]\n",
      " [ 2.06305442e+02 -1.31704527e+01]\n",
      " [-1.98152107e+02 -2.50486684e+01]\n",
      " [ 3.71787583e+02  6.74870123e+01]\n",
      " [ 1.67725207e+02  2.40262039e+02]\n",
      " [-1.10637067e+02  2.10855497e+01]]\n"
     ]
    },
    {
     "data": {
      "image/png": "[encoded data removed]",
      "text/plain": [
       "<Figure size 360x360 with 1 Axes>"
      ]
     },
     "metadata": {
      "needs_background": "light"
     },
     "output_type": "display_data"
    }
   ],
   "source": [
    "def main():\n",
    "    kernel_size = 0.025\n",
    "    particle_num = 100\n",
    "    boundary_gap = kernel_size * 0.5\n",
    "    boundary_layer = 3\n",
    "    \n",
    "    row_bound = int(1 // boundary_gap)\n",
    "    boundary_num = (row_bound + boundary_layer * 2 - 1) ** 2 - (row_bound - 1) ** 2\n",
    "\n",
    "    step_num = 100\n",
    "    particle_pos = torch.zeros((particle_num, 2), dtype=torch.float64, device=device, requires_grad = True)\n",
    "    particle_mass = torch.ones((particle_num + boundary_num, 1), dtype=torch.float64, device=device, requires_grad = True)\n",
    "    boundary_pos = torch.zeros((boundary_num, 2), dtype=torch.float64, device=device, requires_grad = True)\n",
    "    particle_vel = torch.zeros((particle_num, 2), dtype=torch.float64, device=device, requires_grad = True)\n",
    "    f_ext = torch.zeros((particle_num, 2), dtype=torch.float64, device=device, requires_grad = False)\n",
    "    f_ext += torch.tensor([[0, -9.8]], dtype=torch.float64, device=device, requires_grad = False)\n",
    "    \n",
    "    for i in range(particle_num):\n",
    "        particle_pos[i, 0], particle_pos[i, 1] = (i // 10) * kernel_size * 0.8, 1-(i % 10) * kernel_size * 0.8\n",
    "        \n",
    "    idx = 0\n",
    "    for i in range(-boundary_layer + 1, row_bound + boundary_layer):\n",
    "        for j in range(-boundary_layer + 1, row_bound + boundary_layer):\n",
    "            if not (0 < i < row_bound and 0 < j < row_bound):\n",
    "                boundary_pos[idx,0], boundary_pos[idx,1] = i * boundary_gap, j * boundary_gap\n",
    "                idx += 1\n",
    "    \n",
    "    step_history = particle_pos.view(1, particle_num, 2).detach()\n",
    "    \n",
    "\n",
    "    test_sph = SPH(particle_num, kernel_size ,0.003, kernel1, kernel1_grad, kernel2_grad, boundary_num, boundary_pos, particle_mass, 0.002).to(device)\n",
    "    \n",
    "    pos_list = [particle_pos]\n",
    "    vel_list = [particle_vel]\n",
    "    \n",
    "    for i in range(step_num - 1):\n",
    "        new_pos, new_vel = test_sph(pos_list[-1], vel_list[-1], f_ext)\n",
    "        pos_list.append(new_pos.detach())\n",
    "        vel_list.append(new_vel.detach())\n",
    "        step_history = torch.cat((step_history, new_pos.view(1, particle_num, 2).detach()), 0)\n",
    "\n",
    "    step_history = step_history.detach().cpu().numpy()\n",
    "    boundary_pos = boundary_pos.detach().cpu().numpy()\n",
    "    \n",
    "    fig = plt.figure(figsize=(5, 5))\n",
    "    ax = fig.add_subplot(111, aspect='equal', autoscale_on=False,\n",
    "                         xlim=(-0.1, 1.1), ylim=(-0.1, 1.1))\n",
    "    particles, = ax.plot([], [], 'bo', ms=2)\n",
    "    boundaries, = ax.plot(boundary_pos[:,0], boundary_pos[:,1], 'ro', ms=1)\n",
    "    #boundaries, = ax.plot(boundary_np[:, 0], boundary_np[:, 1], 'ro', ms=1)\n",
    "\n",
    "    for frame in range(step_history.shape[0]):\n",
    "        particles.set_data(step_history[frame, :, 0], step_history[frame, :, 1])\n",
    "        clear_output(wait=True)\n",
    "        display(fig)\n",
    "        \n",
    "    print(step_history[-1])\n",
    "    \n",
    "main()"
   ]
  },
  {
   "cell_type": "code",
   "execution_count": 11,
   "metadata": {},
   "outputs": [],
   "source": [
    "a = torch.tensor([[0.001,0.002], [0.000,0.004], [0.003,0.004]], dtype = torch.float64, requires_grad = True)"
   ]
  },
  {
   "cell_type": "code",
   "execution_count": 12,
   "metadata": {},
   "outputs": [
    {
     "data": {
      "text/plain": [
       "tensor([[[ 0.0000,  0.0000],\n",
       "         [ 0.0010, -0.0020],\n",
       "         [-0.0020, -0.0020]],\n",
       "\n",
       "        [[-0.0010,  0.0020],\n",
       "         [ 0.0000,  0.0000],\n",
       "         [-0.0030,  0.0000]],\n",
       "\n",
       "        [[ 0.0020,  0.0020],\n",
       "         [ 0.0030,  0.0000],\n",
       "         [ 0.0000,  0.0000]]], dtype=torch.float64, grad_fn=<SubBackward0>)"
      ]
     },
     "execution_count": 12,
     "metadata": {},
     "output_type": "execute_result"
    }
   ],
   "source": [
    "b = a.view(3, 1, 2) - a.view(1, 3, 2)\n",
    "b"
   ]
  },
  {
   "cell_type": "code",
   "execution_count": 13,
   "metadata": {},
   "outputs": [
    {
     "data": {
      "text/plain": [
       "tensor([[0.0000, 0.0022, 0.0028],\n",
       "        [0.0022, 0.0000, 0.0030],\n",
       "        [0.0028, 0.0030, 0.0000]], dtype=torch.float64,\n",
       "       grad_fn=<CopyBackwards>)"
      ]
     },
     "execution_count": 13,
     "metadata": {},
     "output_type": "execute_result"
    }
   ],
   "source": [
    "c = torch.norm(b, dim =2)\n",
    "c"
   ]
  },
  {
   "cell_type": "code",
   "execution_count": 14,
   "metadata": {},
   "outputs": [
    {
     "data": {
      "text/plain": [
       "tensor([[2910.2618, 2783.0637, 2712.0408],\n",
       "        [2783.0637, 2910.2618, 2688.9888],\n",
       "        [2712.0408, 2688.9888, 2910.2618]], dtype=torch.float64,\n",
       "       grad_fn=<MulBackward0>)"
      ]
     },
     "execution_count": 14,
     "metadata": {},
     "output_type": "execute_result"
    }
   ],
   "source": [
    "d = kernel1(c)\n",
    "d"
   ]
  },
  {
   "cell_type": "code",
   "execution_count": 15,
   "metadata": {},
   "outputs": [
    {
     "data": {
      "text/plain": [
       "tensor([[-48380.3370,  96760.6741],\n",
       "        [ 48380.3370, -96760.6741],\n",
       "        [     0.0000,      0.0000]], dtype=torch.float64)"
      ]
     },
     "execution_count": 15,
     "metadata": {},
     "output_type": "execute_result"
    }
   ],
   "source": [
    "d[1, 0].backward()\n",
    "a.grad"
   ]
  },
  {
   "cell_type": "code",
   "execution_count": 16,
   "metadata": {},
   "outputs": [
    {
     "data": {
      "text/plain": [
       "tensor([ 48380.3370, -96760.6741], dtype=torch.float64, grad_fn=<MulBackward0>)"
      ]
     },
     "execution_count": 16,
     "metadata": {},
     "output_type": "execute_result"
    }
   ],
   "source": [
    "(a[1] - a[0]) / c[1, 0] * kernel1_grad(c)[1, 0]"
   ]
  },
  {
   "cell_type": "code",
   "execution_count": 17,
   "metadata": {},
   "outputs": [
    {
     "data": {
      "text/plain": [
       "tensor([-52524.4053], dtype=torch.float64)"
      ]
     },
     "execution_count": 17,
     "metadata": {},
     "output_type": "execute_result"
    }
   ],
   "source": [
    "x = torch.tensor([0.001], dtype = torch.float64, requires_grad = True)\n",
    "y = kernel1(x)\n",
    "y[0].backward()\n",
    "x.grad"
   ]
  },
  {
   "cell_type": "code",
   "execution_count": 18,
   "metadata": {},
   "outputs": [
    {
     "data": {
      "text/plain": [
       "tensor([-52524.4053], dtype=torch.float64, grad_fn=<DivBackward0>)"
      ]
     },
     "execution_count": 18,
     "metadata": {},
     "output_type": "execute_result"
    }
   ],
   "source": [
    "kernel1_grad(x)"
   ]
  },
  {
   "cell_type": "code",
   "execution_count": 19,
   "metadata": {},
   "outputs": [
    {
     "name": "stdout",
     "output_type": "stream",
     "text": [
      "tensor(5., dtype=torch.float64, grad_fn=<CopyBackwards>)\n"
     ]
    },
    {
     "data": {
      "text/plain": [
       "tensor([0.6000, 0.8000], dtype=torch.float64)"
      ]
     },
     "execution_count": 19,
     "metadata": {},
     "output_type": "execute_result"
    }
   ],
   "source": [
    "x = torch.tensor([3, 4], dtype = torch.float64, requires_grad = True)\n",
    "y = x\n",
    "z = torch.norm(y)\n",
    "print(z)\n",
    "z.backward()\n",
    "x.grad"
   ]
  },
  {
   "cell_type": "code",
   "execution_count": 20,
   "metadata": {},
   "outputs": [
    {
     "data": {
      "text/plain": [
       "tensor(5.)"
      ]
     },
     "execution_count": 20,
     "metadata": {},
     "output_type": "execute_result"
    }
   ],
   "source": [
    "x = torch.tensor([3.,4.])\n",
    "y = torch.norm(x)\n",
    "y"
   ]
  },
  {
   "cell_type": "code",
   "execution_count": 21,
   "metadata": {},
   "outputs": [
    {
     "data": {
      "text/plain": [
       "tensor([nan, 4.])"
      ]
     },
     "execution_count": 21,
     "metadata": {},
     "output_type": "execute_result"
    }
   ],
   "source": [
    "x = torch.tensor([3,4])\n",
    "y = torch.tensor([0,1])\n",
    "z = torch.divide(x , y)\n",
    "z = z * y\n",
    "z[z==nan] = 0\n",
    "z"
   ]
  },
  {
   "cell_type": "code",
   "execution_count": 22,
   "metadata": {},
   "outputs": [
    {
     "data": {
      "text/plain": [
       "tensor([[5, 5],\n",
       "        [3, 4]])"
      ]
     },
     "execution_count": 22,
     "metadata": {},
     "output_type": "execute_result"
    }
   ],
   "source": [
    "x = torch.tensor([[1,2],[3,4]])\n",
    "y = torch.tensor([1,0])\n",
    "x[y == 1, :] = 5\n",
    "x"
   ]
  },
  {
   "cell_type": "code",
   "execution_count": 23,
   "metadata": {},
   "outputs": [
    {
     "data": {
      "image/png": "[encoded data removed]",
      "text/plain": [
       "<Figure size 432x288 with 1 Axes>"
      ]
     },
     "metadata": {
      "needs_background": "light"
     },
     "output_type": "display_data"
    }
   ],
   "source": [
    "fig = plt.figure()\n",
    "ax = plt.axes(xlim=(0, 2), ylim=(-2, 2))\n",
    "line, = ax.plot([], [], lw=2)\n",
    "\n",
    "# initialization function: plot the background of each frame\n",
    "def init():\n",
    "    line.set_data([], [])\n",
    "    return line,\n",
    "\n",
    "# animation function.  This is called sequentially\n",
    "def animate(i):\n",
    "    x = np.linspace(0, 2, 1000)\n",
    "    y = np.sin(2 * np.pi * (x - 0.01 * i))\n",
    "    line.set_data(x, y)\n",
    "    return line,\n",
    "\n",
    "# call the animator.  blit=True means only re-draw the parts that have changed.\n",
    "anim = FuncAnimation(fig, animate, init_func=init,\n",
    "                               frames=200, interval=20, blit=True)\n",
    "\n",
    "# save the animation as an mp4.  This requires ffmpeg or mencoder to be\n",
    "# installed.  The extra_args ensure that the x264 codec is used, so that\n",
    "# the video can be embedded in html5.  You may need to adjust this for\n",
    "# your system: for more information, see\n",
    "# http://matplotlib.sourceforge.net/api/animation_api.html\n",
    "plt.show()"
   ]
  },
  {
   "cell_type": "code",
   "execution_count": null,
   "metadata": {},
   "outputs": [],
   "source": []
  },
  {
   "cell_type": "code",
   "execution_count": null,
   "metadata": {},
   "outputs": [],
   "source": []
  }
 ],
 "metadata": {
  "kernelspec": {
   "display_name": "Python 3",
   "language": "python",
   "name": "python3"
  },
  "language_info": {
   "codemirror_mode": {
    "name": "ipython",
    "version": 3
   },
   "file_extension": ".py",
   "mimetype": "text/x-python",
   "name": "python",
   "nbconvert_exporter": "python",
   "pygments_lexer": "ipython3",
   "version": "3.9.1"
  }
 },
 "nbformat": 4,
 "nbformat_minor": 4
}
