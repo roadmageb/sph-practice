{
 "cells": [
  {
   "cell_type": "code",
   "execution_count": 3,
   "metadata": {},
   "outputs": [],
   "source": [
    "import torch\n",
    "import torch.nn as nn\n",
    "import torch.nn.functional as F"
   ]
  },
  {
   "cell_type": "code",
   "execution_count": 4,
   "metadata": {},
   "outputs": [
    {
     "data": {
      "text/plain": [
       "device(type='cuda')"
      ]
     },
     "execution_count": 4,
     "metadata": {},
     "output_type": "execute_result"
    }
   ],
   "source": [
    "device = torch.device('cpu')\n",
    "if torch.cuda.is_available():\n",
    "    device = torch.device('cuda')\n",
    "device"
   ]
  },
  {
   "cell_type": "code",
   "execution_count": 5,
   "metadata": {},
   "outputs": [],
   "source": [
    "class SPH(nn.Module):\n",
    "    def __init__(self, particle_num, particle_size, viscosity, kernel, mass, step_time):\n",
    "        super(Model, self).__init__()\n",
    "        self.particle_num = particle_num\n",
    "        self.particle_size = particle_size\n",
    "        self.viscosity = viscosity\n",
    "        self.kernel = kernel\n",
    "        self.mass = mass\n",
    "        self.step_time = step_time\n",
    "\n",
    "    def forward(self, pos, vel, f_ext):\n",
    "        r = torch.zeros((self.particle_num, self.particle_num), dtype=torch.float64, device = device)\n",
    "        d = torch.zeros((self.particle_num, self.particle_num), dtype=torch.float64, device = device)\n",
    "        density = torch.zeros(self.particle_num, dtype=torch.float64, device = device)\n",
    "        f_viscosity = torch.zeros((self.particle_num, 2), dtype=torch.float64, device = device)\n",
    "        f_pressure = torch.zeros((self.particle_num, 2), dtype=torch.float64, device = device)\n",
    "        pressure = torch.zeros(self.particle_num, dtype=torch.float64, device = device)\n",
    "        grad2_vel = torch.zeros((self.particle_num, 2), dtype=torch.float64, device = device)\n",
    "        mid_vel = torch.zeros((self.particle_num, 2), dtype=torch.float64, device = device)\n",
    "        new_vel = torch.zeros((self.particle_num, 2), dtype=torch.float64, device = device)\n",
    "        new_pos = torch.zeros((self.particle_num, 2), dtype=torch.float64, device = device)\n",
    "        \n",
    "        rest_density = self.mass[0] * self.kernel(0)\n",
    "\n",
    "        for i in range(self.particle_num):\n",
    "            for j in range(i, self.particle_num):\n",
    "                r[i, j] = torch.norm(pos[i,:] - pos[j,:])\n",
    "                d[i ,j] = self.kernel(r[i, j])\n",
    "                density[i] += self.mass[j] * d\n",
    "                if i != j:\n",
    "                    r[j, i] = r[j, i]\n",
    "                    d[j ,i] = d[j ,i]                \n",
    "                    density[j] += self.mass[i] * d\n",
    "        \n",
    "        for i in range(self.particle_num):\n",
    "            for j in range(i, self.particle_num):\n",
    "                d[i, j].backward()\n",
    "                grad2_vel[i] -= self.mass[j] / density[j] * vel[j] * 2 * torch.norm(pos.grad[i, :], pos.grad[j, :]) / r[i ,j]\n",
    "                if i != j:\n",
    "                    grad2_vel[j] -= self.mass[i] / density[i] * vel[i] * 2 * torch.norm(pos.grad[i, :], pos.grad[j, :]) / r[i ,j]\n",
    "        f_viscosity = self.mass * self.viscosity * grad2_vel[i]\n",
    "        mid_vel = vel + self.step_time / mass * (f_viscosity + f_ext)\n",
    "        pressure = -10 * (((density / rest_density) ** 7) - 1)\n",
    "        pressure.backward()\n",
    "        f_pressure = pos.grad / density\n",
    "        \n",
    "        new_vel = mid_vel + self.step_time / self.mass * f_pressure\n",
    "        \n",
    "        return pos, vel"
   ]
  },
  {
   "cell_type": "code",
   "execution_count": 13,
   "metadata": {},
   "outputs": [],
   "source": [
    "def kernel1(r, h = 0.025):\n",
    "    q = r / h\n",
    "    if 0 <= q <= 0.5:\n",
    "        return 6 * (q**3 - q**2) + 1\n",
    "    elif 0.5 < q <= 1:\n",
    "        return 2 * (1 - q**3)\n",
    "    else:\n",
    "        return 0"
   ]
  },
  {
   "cell_type": "code",
   "execution_count": 20,
   "metadata": {},
   "outputs": [],
   "source": [
    "kernel = kernel1"
   ]
  },
  {
   "cell_type": "code",
   "execution_count": 22,
   "metadata": {},
   "outputs": [
    {
     "data": {
      "text/plain": [
       "0.42400000000000004"
      ]
     },
     "execution_count": 22,
     "metadata": {},
     "output_type": "execute_result"
    }
   ],
   "source": [
    "kernel(0.01)"
   ]
  },
  {
   "cell_type": "code",
   "execution_count": 9,
   "metadata": {},
   "outputs": [],
   "source": [
    "particle_num = 100\n",
    "particle_mass = torch.ones((particle_num, 1), dtype=torch.float64, device=device, requires_grad = True)\n",
    "particle_pos = torch.randn((particle_num, 2), dtype=torch.float64, device=device, requires_grad = True)\n",
    "particle_vel = torch.randn((particle_num, 2), dtype=torch.float64, device=device, requires_grad = True)"
   ]
  },
  {
   "cell_type": "code",
   "execution_count": null,
   "metadata": {},
   "outputs": [],
   "source": [
    "test_sph = SPH(particle_num, 0.025 ,0.003, kernel1, particle_mass, 0.002)"
   ]
  },
  {
   "cell_type": "code",
   "execution_count": null,
   "metadata": {},
   "outputs": [],
   "source": []
  }
 ],
 "metadata": {
  "kernelspec": {
   "display_name": "Python 3",
   "language": "python",
   "name": "python3"
  },
  "language_info": {
   "codemirror_mode": {
    "name": "ipython",
    "version": 3
   },
   "file_extension": ".py",
   "mimetype": "text/x-python",
   "name": "python",
   "nbconvert_exporter": "python",
   "pygments_lexer": "ipython3",
   "version": "3.9.1"
  }
 },
 "nbformat": 4,
 "nbformat_minor": 4
}
